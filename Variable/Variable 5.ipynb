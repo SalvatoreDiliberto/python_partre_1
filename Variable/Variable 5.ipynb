{
 "cells": [
  {
   "cell_type": "markdown",
   "metadata": {},
   "source": [
    "Variable\n"
   ]
  },
  {
   "cell_type": "markdown",
   "metadata": {},
   "source": [
    "Esercizio 5"
   ]
  },
  {
   "cell_type": "markdown",
   "metadata": {},
   "source": [
    "1) Using string slicing to extract the first and last characters of the user's name."
   ]
  },
  {
   "cell_type": "code",
   "execution_count": 3,
   "metadata": {},
   "outputs": [
    {
     "name": "stdout",
     "output_type": "stream",
     "text": [
      "S o\n"
     ]
    }
   ],
   "source": [
    "user=\"Salvatore Diliberto\"\n",
    "sentence=\"user name is Salvatore, he is 30 years old\"\n",
    "print(user[0], user[-1])"
   ]
  },
  {
   "cell_type": "markdown",
   "metadata": {},
   "source": [
    "2) Using string methods to check if the user's name contains any digits."
   ]
  },
  {
   "cell_type": "code",
   "execution_count": 3,
   "metadata": {},
   "outputs": [
    {
     "name": "stdout",
     "output_type": "stream",
     "text": [
      "True\n"
     ]
    }
   ],
   "source": [
    "sentence = \"user name is Salvatore, he is 30 years old\"\n",
    "print(any(chr.isdigit() for chr in sentence))"
   ]
  },
  {
   "cell_type": "markdown",
   "metadata": {},
   "source": [
    "3) Using the replace() method to replace a specific word in the sentence about the user."
   ]
  },
  {
   "cell_type": "code",
   "execution_count": 5,
   "metadata": {},
   "outputs": [],
   "source": [
    "sentence=sentence.replace(\"Salvatore\", \"Francesco\")"
   ]
  },
  {
   "cell_type": "markdown",
   "metadata": {},
   "source": [
    "4) Using the split() method to split the sentence about the user into a list of words and print each word on a new line."
   ]
  },
  {
   "cell_type": "code",
   "execution_count": 6,
   "metadata": {},
   "outputs": [
    {
     "name": "stdout",
     "output_type": "stream",
     "text": [
      "user \n",
      " name \n",
      " is \n",
      " Francesco, \n",
      " he \n",
      " is \n",
      " 30 \n",
      " years \n",
      " old\n"
     ]
    }
   ],
   "source": [
    "b=sentence.split(\" \")\n",
    "print(f\"{b[0]} \\n {b[1]} \\n {b[2]} \\n {b[3]} \\n {b[4]} \\n {b[5]} \\n {b[6]} \\n {b[7]} \\n {b[8]}\" )\n"
   ]
  }
 ],
 "metadata": {
  "kernelspec": {
   "display_name": "Python 3",
   "language": "python",
   "name": "python3"
  },
  "language_info": {
   "codemirror_mode": {
    "name": "ipython",
    "version": 3
   },
   "file_extension": ".py",
   "mimetype": "text/x-python",
   "name": "python",
   "nbconvert_exporter": "python",
   "pygments_lexer": "ipython3",
   "version": "3.11.4"
  },
  "orig_nbformat": 4
 },
 "nbformat": 4,
 "nbformat_minor": 2
}
