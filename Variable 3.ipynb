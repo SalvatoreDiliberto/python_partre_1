{
 "cells": [
  {
   "cell_type": "markdown",
   "metadata": {},
   "source": [
    "Variable"
   ]
  },
  {
   "cell_type": "markdown",
   "metadata": {},
   "source": [
    " \n",
    "Esercizio 3"
   ]
  },
  {
   "cell_type": "markdown",
   "metadata": {},
   "source": [
    "1) Creating variables for your name, age, and city of residence."
   ]
  },
  {
   "cell_type": "code",
   "execution_count": 5,
   "metadata": {},
   "outputs": [],
   "source": [
    "name = \"Salvo\"\n",
    "age = 30\n",
    "city = \"Caltanissetta\"\n",
    "residence = \"San Cataldo\""
   ]
  },
  {
   "cell_type": "markdown",
   "metadata": {},
   "source": [
    "2) Using string concatenation to display a sentence about yourself using the above variables."
   ]
  },
  {
   "cell_type": "code",
   "execution_count": 6,
   "metadata": {},
   "outputs": [],
   "source": [
    "sentence = \"Hello my name is\" + name + \"i'm\" + str(age) + \"years old, live in\" + city + \"and my recidence is\" + residence"
   ]
  },
  {
   "cell_type": "markdown",
   "metadata": {},
   "source": [
    "3) Modifying the variables to add a title (Mr. or Ms.) in front of your name."
   ]
  },
  {
   "cell_type": "code",
   "execution_count": 7,
   "metadata": {},
   "outputs": [],
   "source": [
    "name = \"Mr Salvo\""
   ]
  },
  {
   "cell_type": "markdown",
   "metadata": {},
   "source": [
    "4) Using the string format method to display the same sentence as in exercise 2."
   ]
  },
  {
   "cell_type": "code",
   "execution_count": 8,
   "metadata": {},
   "outputs": [
    {
     "name": "stdout",
     "output_type": "stream",
     "text": [
      "Hello my name is Mr Salvo, i'm 30 years old, live in Caltanissetta and my residence is San Cataldo\n"
     ]
    }
   ],
   "source": [
    "sentence = \"Hello my name is {}, i'm {} years old, live in {} and my residence is {}\".format(name,age,city,residence)\n",
    "print(sentence)"
   ]
  },
  {
   "cell_type": "markdown",
   "metadata": {},
   "source": [
    "5) Create a variable called \"name\" and assign a string value to it and “age\" and assign an integer value to it,\n",
    "and Create a variable called \"height\" and assign a floating point value to it, and \n",
    "Create a variable called \"is_student\" and assign a boolean value to it."
   ]
  },
  {
   "cell_type": "code",
   "execution_count": 9,
   "metadata": {},
   "outputs": [],
   "source": [
    "name = \"salvo\"\n",
    "age = 30\n",
    "height = 64.4\n",
    "is_student = True"
   ]
  },
  {
   "cell_type": "markdown",
   "metadata": {},
   "source": [
    "6) Print the type of each of variables from exercise 5 using format method or f string.\n"
   ]
  },
  {
   "cell_type": "code",
   "execution_count": 10,
   "metadata": {},
   "outputs": [
    {
     "name": "stdout",
     "output_type": "stream",
     "text": [
      "la variabile name è <class 'str'>, la varibile age è <class 'int'>, la variabile heigh è <class 'float'>, la variabile is_student è <class 'bool'>\n"
     ]
    }
   ],
   "source": [
    "print(f\"la variabile name è {type(name)}, la varibile age è {type(age)}, la variabile heigh è {type(height)}, la variabile is_student è {type(is_student)}\")"
   ]
  }
 ],
 "metadata": {
  "kernelspec": {
   "display_name": "Python 3",
   "language": "python",
   "name": "python3"
  },
  "language_info": {
   "codemirror_mode": {
    "name": "ipython",
    "version": 3
   },
   "file_extension": ".py",
   "mimetype": "text/x-python",
   "name": "python",
   "nbconvert_exporter": "python",
   "pygments_lexer": "ipython3",
   "version": "3.11.4"
  },
  "orig_nbformat": 4
 },
 "nbformat": 4,
 "nbformat_minor": 2
}
