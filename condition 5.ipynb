{
 "cells": [
  {
   "cell_type": "markdown",
   "metadata": {},
   "source": [
    "Condition"
   ]
  },
  {
   "cell_type": "markdown",
   "metadata": {},
   "source": [
    "Esercizio 5"
   ]
  },
  {
   "cell_type": "markdown",
   "metadata": {},
   "source": [
    "1) Create a variable called age and assign the value 20 to it. Then write an if statement that prints \"You are a teenager\" if the value of age is less than 18, and \"You are an adult\" if the value of age is equal to or greater than 18."
   ]
  },
  {
   "cell_type": "code",
   "execution_count": 5,
   "metadata": {},
   "outputs": [
    {
     "name": "stdout",
     "output_type": "stream",
     "text": [
      "You are a teenager\n"
     ]
    }
   ],
   "source": [
    "a = input(\"inserisci la tua eta\")\n",
    "age = int(a)\n",
    "\n",
    "if age < 18:\n",
    "    print(\"You are a teenager\")\n",
    "else:\n",
    "    print(\"You are an adult\")"
   ]
  },
  {
   "cell_type": "markdown",
   "metadata": {},
   "source": [
    "2) Create two variables called name and city. Then write an if statement that prints \"You are from [city]\" if the value of name is equal to \"John\" or \"Jane\", and \"You are not from [city]\" if the value of name is anything else."
   ]
  },
  {
   "cell_type": "code",
   "execution_count": 9,
   "metadata": {},
   "outputs": [
    {
     "name": "stdout",
     "output_type": "stream",
     "text": [
      "You are not from U.S.A.\n"
     ]
    }
   ],
   "source": [
    "name = input(\"Inserisci il tuo nome \")\n",
    "city = \"U.S.A.\"\n",
    "if name == (\"john\" or \"jane\"):\n",
    "    print(\"You are from \" + city)\n",
    "else:\n",
    "    print(\"You are not from \" + city)    "
   ]
  },
  {
   "cell_type": "markdown",
   "metadata": {},
   "source": [
    "3) Create a variable called password and assign a value to it. Then write an if statement that checks if the length of password is less than 6 characters. If it is, then print \"The password is too short\". Otherwise, print \"The password is long enough\"."
   ]
  },
  {
   "cell_type": "code",
   "execution_count": 17,
   "metadata": {},
   "outputs": [
    {
     "name": "stdout",
     "output_type": "stream",
     "text": [
      "6\n",
      "The password is long enough\n"
     ]
    }
   ],
   "source": [
    "password = 657839\n",
    "print(len(str(password)))\n",
    "if len(str(password)) < 6:\n",
    "    print(\"The password is too short\")\n",
    "else:\n",
    "    print(\"The password is long enough\")\n",
    "    "
   ]
  },
  {
   "cell_type": "markdown",
   "metadata": {},
   "source": [
    "4) Create a variable called number and assign a value to it. Then write an if statement that checks if number is positive, negative, or zero. If it is positive, print \"The number is positive\". If it is negative, print \"The number is negative\". If it is zero, print \"The number is zero\"."
   ]
  },
  {
   "cell_type": "code",
   "execution_count": 22,
   "metadata": {},
   "outputs": [
    {
     "name": "stdout",
     "output_type": "stream",
     "text": [
      "The number is negative\n"
     ]
    }
   ],
   "source": [
    "number = int(input(\"inserisci un numero \"))\n",
    "if number < 0:\n",
    "    print(\"The number is negative\")\n",
    "elif number > 0:\n",
    "    print(\"The number is positive\") \n",
    "else: \n",
    "    print(\"The number is zero\")"
   ]
  },
  {
   "cell_type": "markdown",
   "metadata": {},
   "source": [
    "5) Create two variables called x and y. Then write an if statement that prints \"x is greater than y\" if x is greater than y, and \"y is greater than x\" if y is greater than x."
   ]
  },
  {
   "cell_type": "code",
   "execution_count": 27,
   "metadata": {},
   "outputs": [
    {
     "name": "stdout",
     "output_type": "stream",
     "text": [
      "x =5\n",
      "y =7\n",
      "y è maggiore di x\n"
     ]
    }
   ],
   "source": [
    "x = int(input(\"Dai un valore ad x\"))\n",
    "y = int(input(\"Dai un valore ad y\"))\n",
    "print(\"x = \" + str(x))\n",
    "print(\"y = \" + str(y))\n",
    "if x > y:\n",
    "    print(\"x is greater than y\")\n",
    "else:\n",
    "    print(\"y è maggiore di x\")"
   ]
  },
  {
   "cell_type": "markdown",
   "metadata": {},
   "source": [
    "6) Create two variables called a and b. Then write an if statement that prints \"a is equal to b\" if a is equal to b, and \"a is not equal to"
   ]
  },
  {
   "cell_type": "code",
   "execution_count": 28,
   "metadata": {},
   "outputs": [
    {
     "name": "stdout",
     "output_type": "stream",
     "text": [
      "a is not equal to b\n"
     ]
    }
   ],
   "source": [
    "a = 64\n",
    "b = 53\n",
    "if a == b:\n",
    "    print(\"a is equal to b\")\n",
    "else:\n",
    "    print(\"a is not equal to b\") "
   ]
  }
 ],
 "metadata": {
  "kernelspec": {
   "display_name": "Python 3",
   "language": "python",
   "name": "python3"
  },
  "language_info": {
   "codemirror_mode": {
    "name": "ipython",
    "version": 3
   },
   "file_extension": ".py",
   "mimetype": "text/x-python",
   "name": "python",
   "nbconvert_exporter": "python",
   "pygments_lexer": "ipython3",
   "version": "3.11.4"
  },
  "orig_nbformat": 4
 },
 "nbformat": 4,
 "nbformat_minor": 2
}
