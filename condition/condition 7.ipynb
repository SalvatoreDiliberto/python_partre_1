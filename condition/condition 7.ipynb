{
 "cells": [
  {
   "cell_type": "markdown",
   "metadata": {},
   "source": [
    "Condition"
   ]
  },
  {
   "cell_type": "markdown",
   "metadata": {},
   "source": [
    " \n",
    "Esercizio 7"
   ]
  },
  {
   "cell_type": "markdown",
   "metadata": {},
   "source": [
    "1) Write a python program that inputs a letter from the user and check if it is a vowel or consonant. If the letter is a vowel, print \"The letter is a vowel\". If the letter is a consonant, print \"The letter is a consonant\"."
   ]
  },
  {
   "cell_type": "code",
   "execution_count": 2,
   "metadata": {},
   "outputs": [
    {
     "name": "stdout",
     "output_type": "stream",
     "text": [
      "The letter is a consonant\n"
     ]
    }
   ],
   "source": [
    "letter = input(\"inserisci una lettera \")\n",
    "vowel = [\"a\",\"e\",\"i\",\"o\",\"u\"]\n",
    "if letter in vowel:\n",
    "    print(\"The letter is a vowel\")\n",
    "else:\n",
    "    print(\"The letter is a consonant\")"
   ]
  },
  {
   "cell_type": "markdown",
   "metadata": {},
   "source": [
    "2) Write a python program that inputs a number from the user and checks \n",
    "if it is positive, negative, or zero. If the number is positive, \n",
    "print \"The number is positive\". If the number is negative, print \n",
    "\"The number is negative\". If the number is zero, print \"The number is zero\"."
   ]
  },
  {
   "cell_type": "code",
   "execution_count": 4,
   "metadata": {},
   "outputs": [
    {
     "name": "stdout",
     "output_type": "stream",
     "text": [
      "The number is positive\n"
     ]
    }
   ],
   "source": [
    "number = int(input(\"inserisci un numero \"))\n",
    "if number > 0:\n",
    "    print(\"The number is positive\")\n",
    "elif number == 0:\n",
    "    print(\"The number is zero\")\n",
    "else:\n",
    "    print(\"The number is negative\")"
   ]
  },
  {
   "cell_type": "markdown",
   "metadata": {},
   "source": [
    "3) Write a python program to check if a number is divisible by 5 and 11 or not. If the number is divisible by 5 and 11, print \"The number is divisible by 5 and 11\". If the number is not divisible by 5 and 11, print \"The number is not divisible by 5 and 11\"."
   ]
  },
  {
   "cell_type": "code",
   "execution_count": 9,
   "metadata": {},
   "outputs": [
    {
     "name": "stdout",
     "output_type": "stream",
     "text": [
      "The number is not divisible by 5 and 11\n"
     ]
    }
   ],
   "source": [
    "number = int(input(\"inserisci un numero \"))\n",
    "if ((number % 5 == 0) and (number % 11 == 0)):\n",
    "    print(\"The number is divisible by 5 and 11\")\n",
    "else:\n",
    "    print(\"The number is not divisible by 5 and 11\")"
   ]
  }
 ],
 "metadata": {
  "kernelspec": {
   "display_name": "Python 3",
   "language": "python",
   "name": "python3"
  },
  "language_info": {
   "codemirror_mode": {
    "name": "ipython",
    "version": 3
   },
   "file_extension": ".py",
   "mimetype": "text/x-python",
   "name": "python",
   "nbconvert_exporter": "python",
   "pygments_lexer": "ipython3",
   "version": "3.11.4"
  },
  "orig_nbformat": 4
 },
 "nbformat": 4,
 "nbformat_minor": 2
}
