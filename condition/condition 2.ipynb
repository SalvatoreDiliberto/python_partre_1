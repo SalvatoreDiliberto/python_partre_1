{
 "cells": [
  {
   "cell_type": "markdown",
   "metadata": {},
   "source": [
    "Condition"
   ]
  },
  {
   "cell_type": "markdown",
   "metadata": {},
   "source": [
    "Esercizio 2"
   ]
  },
  {
   "cell_type": "markdown",
   "metadata": {},
   "source": [
    "check if number1 is greater than number 2 and print number1 is greater than number2 then check and if number 2 is greater than number 1 and print number2 is greater than number1 finally at the end if both conditions incorrect print number2 equals to number1\n",
    "\n",
    "number1 = 66 number2 = 66"
   ]
  },
  {
   "cell_type": "code",
   "execution_count": 1,
   "metadata": {},
   "outputs": [
    {
     "name": "stdout",
     "output_type": "stream",
     "text": [
      "i numeri sono uguali\n"
     ]
    }
   ],
   "source": [
    "num1 = 66\n",
    "num2 = 66\n",
    "\n",
    "if num1 > num2:\n",
    "    print(\"il più grande è \" + str(num1))\n",
    "elif num1 < num2:\n",
    "    print(\"il più grande è \" + str(num2))\n",
    "else:\n",
    "    print(\"i numeri sono uguali\")        "
   ]
  }
 ],
 "metadata": {
  "kernelspec": {
   "display_name": "Python 3",
   "language": "python",
   "name": "python3"
  },
  "language_info": {
   "name": "python",
   "version": "3.11.4"
  },
  "orig_nbformat": 4
 },
 "nbformat": 4,
 "nbformat_minor": 2
}
